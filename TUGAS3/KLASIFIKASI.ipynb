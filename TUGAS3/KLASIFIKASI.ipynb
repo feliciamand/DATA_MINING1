{
 "cells": [
  {
   "cell_type": "code",
   "execution_count": 78,
   "id": "03cb2609-12f3-4ea6-9dcf-0eeafd0ad0ce",
   "metadata": {},
   "outputs": [],
   "source": [
    "import pandas as pd\n",
    "from sklearn.model_selection import train_test_split\n",
    "from sklearn.naive_bayes import GaussianNB\n",
    "from sklearn.neighbors import KNeighborsClassifier\n",
    "from sklearn.tree import DecisionTreeClassifier\n",
    "from sklearn.metrics import accuracy_score, classification_report, confusion_matrix\n"
   ]
  },
  {
   "cell_type": "code",
   "execution_count": 79,
   "id": "e0525d1c-4e8c-4a4c-b824-675b13fb2a9b",
   "metadata": {},
   "outputs": [],
   "source": [
    "data_path = 'datasets-jadi.csv'\n",
    "df = pd.read_csv(data_path)"
   ]
  },
  {
   "cell_type": "code",
   "execution_count": 80,
   "id": "61023de2-45b7-453b-b325-cbc34d26a54a",
   "metadata": {},
   "outputs": [
    {
     "data": {
      "text/html": [
       "<div>\n",
       "<style scoped>\n",
       "    .dataframe tbody tr th:only-of-type {\n",
       "        vertical-align: middle;\n",
       "    }\n",
       "\n",
       "    .dataframe tbody tr th {\n",
       "        vertical-align: top;\n",
       "    }\n",
       "\n",
       "    .dataframe thead th {\n",
       "        text-align: right;\n",
       "    }\n",
       "</style>\n",
       "<table border=\"1\" class=\"dataframe\">\n",
       "  <thead>\n",
       "    <tr style=\"text-align: right;\">\n",
       "      <th></th>\n",
       "      <th>NO</th>\n",
       "      <th>NAMA</th>\n",
       "      <th>USIA</th>\n",
       "      <th>PARITAS</th>\n",
       "      <th>JARAK KELAHIRAN</th>\n",
       "      <th>PE/Non PE</th>\n",
       "      <th>RIW HIPERTENSI_Tidak</th>\n",
       "      <th>RIW HIPERTENSI_Ya</th>\n",
       "      <th>RIW PE_Ada</th>\n",
       "      <th>RIW PE_Tidak</th>\n",
       "      <th>OBESITAS_Tidak</th>\n",
       "      <th>OBESITAS_Ya</th>\n",
       "      <th>RIW DM_Tidak</th>\n",
       "      <th>RIW DM_Ya</th>\n",
       "      <th>RIW HIPERTENSI/PE DALAM KELUARGA_Ada</th>\n",
       "      <th>RIW HIPERTENSI/PE DALAM KELUARGA_Tidak</th>\n",
       "      <th>SOSEK RENDAH_&lt;UMR</th>\n",
       "      <th>SOSEK RENDAH_&gt;UMR</th>\n",
       "    </tr>\n",
       "  </thead>\n",
       "  <tbody>\n",
       "    <tr>\n",
       "      <th>0</th>\n",
       "      <td>1</td>\n",
       "      <td>NAMA 1</td>\n",
       "      <td>23.0</td>\n",
       "      <td>3</td>\n",
       "      <td>0</td>\n",
       "      <td>0</td>\n",
       "      <td>1.0</td>\n",
       "      <td>0.0</td>\n",
       "      <td>0.0</td>\n",
       "      <td>1.0</td>\n",
       "      <td>1.0</td>\n",
       "      <td>0.0</td>\n",
       "      <td>0.0</td>\n",
       "      <td>1.0</td>\n",
       "      <td>0.0</td>\n",
       "      <td>1.0</td>\n",
       "      <td>0.0</td>\n",
       "      <td>1.0</td>\n",
       "    </tr>\n",
       "    <tr>\n",
       "      <th>1</th>\n",
       "      <td>2</td>\n",
       "      <td>NAMA 2</td>\n",
       "      <td>29.0</td>\n",
       "      <td>2</td>\n",
       "      <td>0</td>\n",
       "      <td>1</td>\n",
       "      <td>1.0</td>\n",
       "      <td>0.0</td>\n",
       "      <td>1.0</td>\n",
       "      <td>0.0</td>\n",
       "      <td>1.0</td>\n",
       "      <td>0.0</td>\n",
       "      <td>1.0</td>\n",
       "      <td>0.0</td>\n",
       "      <td>1.0</td>\n",
       "      <td>0.0</td>\n",
       "      <td>0.0</td>\n",
       "      <td>1.0</td>\n",
       "    </tr>\n",
       "    <tr>\n",
       "      <th>2</th>\n",
       "      <td>3</td>\n",
       "      <td>NAMA 3</td>\n",
       "      <td>20.0</td>\n",
       "      <td>1</td>\n",
       "      <td>2</td>\n",
       "      <td>0</td>\n",
       "      <td>1.0</td>\n",
       "      <td>0.0</td>\n",
       "      <td>0.0</td>\n",
       "      <td>1.0</td>\n",
       "      <td>1.0</td>\n",
       "      <td>0.0</td>\n",
       "      <td>1.0</td>\n",
       "      <td>0.0</td>\n",
       "      <td>0.0</td>\n",
       "      <td>1.0</td>\n",
       "      <td>0.0</td>\n",
       "      <td>1.0</td>\n",
       "    </tr>\n",
       "    <tr>\n",
       "      <th>3</th>\n",
       "      <td>4</td>\n",
       "      <td>NAMA 4</td>\n",
       "      <td>18.0</td>\n",
       "      <td>1</td>\n",
       "      <td>2</td>\n",
       "      <td>0</td>\n",
       "      <td>1.0</td>\n",
       "      <td>0.0</td>\n",
       "      <td>0.0</td>\n",
       "      <td>1.0</td>\n",
       "      <td>1.0</td>\n",
       "      <td>0.0</td>\n",
       "      <td>1.0</td>\n",
       "      <td>0.0</td>\n",
       "      <td>0.0</td>\n",
       "      <td>1.0</td>\n",
       "      <td>0.0</td>\n",
       "      <td>1.0</td>\n",
       "    </tr>\n",
       "    <tr>\n",
       "      <th>4</th>\n",
       "      <td>5</td>\n",
       "      <td>NAMA 5</td>\n",
       "      <td>34.0</td>\n",
       "      <td>3</td>\n",
       "      <td>1</td>\n",
       "      <td>0</td>\n",
       "      <td>1.0</td>\n",
       "      <td>0.0</td>\n",
       "      <td>0.0</td>\n",
       "      <td>1.0</td>\n",
       "      <td>1.0</td>\n",
       "      <td>0.0</td>\n",
       "      <td>1.0</td>\n",
       "      <td>0.0</td>\n",
       "      <td>0.0</td>\n",
       "      <td>1.0</td>\n",
       "      <td>0.0</td>\n",
       "      <td>1.0</td>\n",
       "    </tr>\n",
       "  </tbody>\n",
       "</table>\n",
       "</div>"
      ],
      "text/plain": [
       "   NO    NAMA  USIA  PARITAS  JARAK KELAHIRAN  PE/Non PE  \\\n",
       "0   1  NAMA 1  23.0        3                0          0   \n",
       "1   2  NAMA 2  29.0        2                0          1   \n",
       "2   3  NAMA 3  20.0        1                2          0   \n",
       "3   4  NAMA 4  18.0        1                2          0   \n",
       "4   5  NAMA 5  34.0        3                1          0   \n",
       "\n",
       "   RIW HIPERTENSI_Tidak  RIW HIPERTENSI_Ya  RIW PE_Ada  RIW PE_Tidak  \\\n",
       "0                   1.0                0.0         0.0           1.0   \n",
       "1                   1.0                0.0         1.0           0.0   \n",
       "2                   1.0                0.0         0.0           1.0   \n",
       "3                   1.0                0.0         0.0           1.0   \n",
       "4                   1.0                0.0         0.0           1.0   \n",
       "\n",
       "   OBESITAS_Tidak  OBESITAS_Ya  RIW DM_Tidak  RIW DM_Ya  \\\n",
       "0             1.0          0.0           0.0        1.0   \n",
       "1             1.0          0.0           1.0        0.0   \n",
       "2             1.0          0.0           1.0        0.0   \n",
       "3             1.0          0.0           1.0        0.0   \n",
       "4             1.0          0.0           1.0        0.0   \n",
       "\n",
       "   RIW HIPERTENSI/PE DALAM KELUARGA_Ada  \\\n",
       "0                                   0.0   \n",
       "1                                   1.0   \n",
       "2                                   0.0   \n",
       "3                                   0.0   \n",
       "4                                   0.0   \n",
       "\n",
       "   RIW HIPERTENSI/PE DALAM KELUARGA_Tidak  SOSEK RENDAH_<UMR  \\\n",
       "0                                     1.0                0.0   \n",
       "1                                     0.0                0.0   \n",
       "2                                     1.0                0.0   \n",
       "3                                     1.0                0.0   \n",
       "4                                     1.0                0.0   \n",
       "\n",
       "   SOSEK RENDAH_>UMR  \n",
       "0                1.0  \n",
       "1                1.0  \n",
       "2                1.0  \n",
       "3                1.0  \n",
       "4                1.0  "
      ]
     },
     "execution_count": 80,
     "metadata": {},
     "output_type": "execute_result"
    }
   ],
   "source": [
    "df.head()"
   ]
  },
  {
   "cell_type": "code",
   "execution_count": 81,
   "id": "2f80c5c7-855a-47b6-b83f-04d0d8349af5",
   "metadata": {},
   "outputs": [
    {
     "data": {
      "text/plain": [
       "NO                                        0\n",
       "NAMA                                      0\n",
       "USIA                                      0\n",
       "PARITAS                                   0\n",
       "JARAK KELAHIRAN                           0\n",
       "PE/Non PE                                 0\n",
       "RIW HIPERTENSI_Tidak                      0\n",
       "RIW HIPERTENSI_Ya                         0\n",
       "RIW PE_Ada                                0\n",
       "RIW PE_Tidak                              0\n",
       "OBESITAS_Tidak                            0\n",
       "OBESITAS_Ya                               0\n",
       "RIW DM_Tidak                              0\n",
       "RIW DM_Ya                                 0\n",
       "RIW HIPERTENSI/PE DALAM KELUARGA_Ada      0\n",
       "RIW HIPERTENSI/PE DALAM KELUARGA_Tidak    0\n",
       "SOSEK RENDAH_<UMR                         0\n",
       "SOSEK RENDAH_>UMR                         0\n",
       "dtype: int64"
      ]
     },
     "execution_count": 81,
     "metadata": {},
     "output_type": "execute_result"
    }
   ],
   "source": [
    "df.isnull().any()\n",
    "df.isnull().sum()"
   ]
  },
  {
   "cell_type": "code",
   "execution_count": 82,
   "id": "069ce5a2-d30a-4953-ba05-3297ec06bb9e",
   "metadata": {},
   "outputs": [],
   "source": [
    "# Drop irrelevant columns (if present) and define features and target\n",
    "df_cleaned = df.drop(columns=['NO', 'NAMA', 'Unnamed: 12'], errors='ignore')\n",
    "X = df_cleaned.drop(columns=['PE/Non PE'], errors='ignore')\n",
    "y = df_cleaned['PE/Non PE']"
   ]
  },
  {
   "cell_type": "code",
   "execution_count": 83,
   "id": "88731e88-84b9-49ed-a28e-9f8d2bb08fea",
   "metadata": {},
   "outputs": [],
   "source": [
    "# Convert categorical columns to numerical using one-hot encoding\n",
    "X = pd.get_dummies(X, drop_first=True)"
   ]
  },
  {
   "cell_type": "code",
   "execution_count": 84,
   "id": "7e93342c-6be5-4800-8cff-501b82913464",
   "metadata": {},
   "outputs": [],
   "source": [
    "# Split the dataset into training and testing sets\n",
    "X_train, X_test, y_train, y_test = train_test_split(X, y, test_size=0.2, random_state=42)"
   ]
  },
  {
   "cell_type": "code",
   "execution_count": 85,
   "id": "ef3a9857-a8bd-4158-b08e-440b7b49f992",
   "metadata": {},
   "outputs": [],
   "source": [
    "# Initialize the models\n",
    "nb_model = GaussianNB()\n",
    "knn_model = KNeighborsClassifier(n_neighbors=5)\n",
    "dt_model = DecisionTreeClassifier(random_state=42)"
   ]
  },
  {
   "cell_type": "code",
   "execution_count": 86,
   "id": "5838ad1c-9006-40fe-baa5-214eab31e826",
   "metadata": {},
   "outputs": [],
   "source": [
    "# Train and evaluate Naive Bayes\n",
    "nb_model.fit(X_train, y_train)\n",
    "y_pred_nb = nb_model.predict(X_test)"
   ]
  },
  {
   "cell_type": "code",
   "execution_count": 87,
   "id": "686e11fa-4018-4a4a-a73b-dc55b5604534",
   "metadata": {},
   "outputs": [],
   "source": [
    "# Train and evaluate K-Nearest Neighbors\n",
    "knn_model.fit(X_train, y_train)\n",
    "y_pred_knn = knn_model.predict(X_test)"
   ]
  },
  {
   "cell_type": "code",
   "execution_count": 88,
   "id": "fae745ab-415a-4df5-9211-3b09af4fe986",
   "metadata": {},
   "outputs": [],
   "source": [
    "# Train and evaluate Decision Tree\n",
    "dt_model.fit(X_train, y_train)\n",
    "y_pred_dt = dt_model.predict(X_test)"
   ]
  },
  {
   "cell_type": "code",
   "execution_count": 91,
   "id": "ae4b335b-dea8-4b45-8d43-90803830c7f2",
   "metadata": {},
   "outputs": [
    {
     "name": "stdout",
     "output_type": "stream",
     "text": [
      "{'Naive Bayes': array([[96,  6],\n",
      "       [ 2,  9]]), 'K-Nearest Neighbors': array([[101,   1],\n",
      "       [ 11,   0]]), 'Decision Tree': array([[98,  4],\n",
      "       [ 6,  5]])}\n"
     ]
    }
   ],
   "source": []
  },
  {
   "cell_type": "code",
   "execution_count": 123,
   "id": "4a9a1051-03be-4968-b9df-85a1e9813291",
   "metadata": {},
   "outputs": [],
   "source": [
    "# Generate confusion matrices for each model\n",
    "confusion_matrices = {\n",
    "    'Naive Bayes': confusion_matrix(y_test, y_pred_nb),\n",
    "    'K-Nearest Neighbors': confusion_matrix(y_test, y_pred_knn),\n",
    "    'Decision Tree': confusion_matrix(y_test, y_pred_dt)\n",
    "}"
   ]
  },
  {
   "cell_type": "code",
   "execution_count": 124,
   "id": "9b5e726e-2aef-4dbf-9b7f-c97a706f3bcc",
   "metadata": {},
   "outputs": [],
   "source": [
    "for model_name, cm in confusion_matrices.items():\n",
    "    # Calculate accuracy for each model\n",
    "    if model_name == 'Naive Bayes':\n",
    "        accuracy = accuracy_score(y_test, y_pred_nb)\n",
    "    elif model_name == 'K-Nearest Neighbors':\n",
    "        accuracy = accuracy_score(y_test, y_pred_knn)\n",
    "    else:\n",
    "        accuracy = accuracy_score(y_test, y_pred_dt)\n",
    "    \n",
    "    accuracy_results[model_name] = accuracy\n",
    "    "
   ]
  },
  {
   "cell_type": "code",
   "execution_count": 125,
   "id": "fdcbf17a-b42e-47c4-a74d-d3cfb81fe4e4",
   "metadata": {},
   "outputs": [
    {
     "name": "stdout",
     "output_type": "stream",
     "text": [
      "                 Model  Accuracy (70/30 Split)\n",
      "0          Naive Bayes                0.929204\n",
      "1  K-Nearest Neighbors                0.893805\n",
      "2        Decision Tree                0.911504\n"
     ]
    }
   ],
   "source": [
    "accuracy_df = pd.DataFrame(list(accuracy_results.items()), columns=['Model', 'Accuracy (70/30 Split)'])\n",
    "print(accuracy_df)"
   ]
  },
  {
   "cell_type": "code",
   "execution_count": 70,
   "id": "a7644f18-dc2e-4c2a-ab25-9d2c3ec3641b",
   "metadata": {},
   "outputs": [
    {
     "name": "stdout",
     "output_type": "stream",
     "text": [
      "{'Naive Bayes': array([[96,  6],\n",
      "       [ 2,  9]]), 'K-Nearest Neighbors': array([[101,   1],\n",
      "       [ 11,   0]]), 'Decision Tree': array([[98,  4],\n",
      "       [ 6,  5]])}\n"
     ]
    }
   ],
   "source": []
  },
  {
   "cell_type": "code",
   "execution_count": 76,
   "id": "3eac60e1-c9e0-4c54-b6c2-e968f07f8096",
   "metadata": {},
   "outputs": [],
   "source": [
    "# Calculate accuracy for each model with 70/30 split\n",
    "nb_accuracy_70_30 = accuracy_score(y_test, y_pred_nb)\n",
    "knn_accuracy_70_30 = accuracy_score(y_test, y_pred_knn)\n",
    "dt_accuracy_70_30 = accuracy_score(y_test, y_pred_dt)\n",
    "\n",
    "# Compile accuracy results into a DataFrame for comparison\n",
    "accuracy_results_70_30 = {\n",
    "    'Model': ['Naive Bayes', 'K-Nearest Neighbors', 'Decision Tree'],\n",
    "    'Accuracy (70/30 Split)': [nb_accuracy_70_30, knn_accuracy_70_30, dt_accuracy_70_30]\n",
    "}\n",
    "\n",
    "# Display the results\n",
    "accuracy_df = pd.DataFrame(accuracy_results_70_30)"
   ]
  },
  {
   "cell_type": "code",
   "execution_count": 77,
   "id": "4af165b5-8acc-4033-bd3a-f3fbc2d547b8",
   "metadata": {},
   "outputs": [
    {
     "data": {
      "text/html": [
       "<div>\n",
       "<style scoped>\n",
       "    .dataframe tbody tr th:only-of-type {\n",
       "        vertical-align: middle;\n",
       "    }\n",
       "\n",
       "    .dataframe tbody tr th {\n",
       "        vertical-align: top;\n",
       "    }\n",
       "\n",
       "    .dataframe thead th {\n",
       "        text-align: right;\n",
       "    }\n",
       "</style>\n",
       "<table border=\"1\" class=\"dataframe\">\n",
       "  <thead>\n",
       "    <tr style=\"text-align: right;\">\n",
       "      <th></th>\n",
       "      <th>Model</th>\n",
       "      <th>Accuracy (70/30 Split)</th>\n",
       "    </tr>\n",
       "  </thead>\n",
       "  <tbody>\n",
       "    <tr>\n",
       "      <th>0</th>\n",
       "      <td>Naive Bayes</td>\n",
       "      <td>0.929204</td>\n",
       "    </tr>\n",
       "    <tr>\n",
       "      <th>1</th>\n",
       "      <td>K-Nearest Neighbors</td>\n",
       "      <td>0.893805</td>\n",
       "    </tr>\n",
       "    <tr>\n",
       "      <th>2</th>\n",
       "      <td>Decision Tree</td>\n",
       "      <td>0.911504</td>\n",
       "    </tr>\n",
       "  </tbody>\n",
       "</table>\n",
       "</div>"
      ],
      "text/plain": [
       "                 Model  Accuracy (70/30 Split)\n",
       "0          Naive Bayes                0.929204\n",
       "1  K-Nearest Neighbors                0.893805\n",
       "2        Decision Tree                0.911504"
      ]
     },
     "execution_count": 77,
     "metadata": {},
     "output_type": "execute_result"
    }
   ],
   "source": [
    "accuracy_df"
   ]
  },
  {
   "cell_type": "code",
   "execution_count": 126,
   "id": "72d602b5-c9ed-453f-999e-0c3d1c4596ad",
   "metadata": {},
   "outputs": [],
   "source": [
    "classification_reports = {\n",
    "    'Naive Bayes': classification_report(y_test, y_pred_nb),\n",
    "    'K-Nearest Neighbors': classification_report(y_test, y_pred_knn),\n",
    "    'Decision Tree': classification_report(y_test, y_pred_dt)\n",
    "}"
   ]
  },
  {
   "cell_type": "code",
   "execution_count": 127,
   "id": "05519887-fa37-4bce-9fed-c9daebe75a27",
   "metadata": {},
   "outputs": [
    {
     "name": "stdout",
     "output_type": "stream",
     "text": [
      "Classification Report for Naive Bayes (70/30 Split):\n",
      "\n",
      "              precision    recall  f1-score   support\n",
      "\n",
      "           0       0.98      0.94      0.96       102\n",
      "           1       0.60      0.82      0.69        11\n",
      "\n",
      "    accuracy                           0.93       113\n",
      "   macro avg       0.79      0.88      0.83       113\n",
      "weighted avg       0.94      0.93      0.93       113\n",
      "\n",
      "\n",
      "============================================================\n",
      "\n",
      "Classification Report for K-Nearest Neighbors (70/30 Split):\n",
      "\n",
      "              precision    recall  f1-score   support\n",
      "\n",
      "           0       0.90      0.99      0.94       102\n",
      "           1       0.00      0.00      0.00        11\n",
      "\n",
      "    accuracy                           0.89       113\n",
      "   macro avg       0.45      0.50      0.47       113\n",
      "weighted avg       0.81      0.89      0.85       113\n",
      "\n",
      "\n",
      "============================================================\n",
      "\n",
      "Classification Report for Decision Tree (70/30 Split):\n",
      "\n",
      "              precision    recall  f1-score   support\n",
      "\n",
      "           0       0.94      0.96      0.95       102\n",
      "           1       0.56      0.45      0.50        11\n",
      "\n",
      "    accuracy                           0.91       113\n",
      "   macro avg       0.75      0.71      0.73       113\n",
      "weighted avg       0.90      0.91      0.91       113\n",
      "\n",
      "\n",
      "============================================================\n",
      "\n"
     ]
    }
   ],
   "source": [
    "# Display classification report for each model\n",
    "for model_name, report in classification_reports.items():\n",
    "    print(f\"Classification Report for {model_name} (70/30 Split):\\n\")\n",
    "    print(report)\n",
    "    print(\"\\n\" + \"=\"*60 + \"\\n\")"
   ]
  },
  {
   "cell_type": "code",
   "execution_count": null,
   "id": "e169290f-eb31-4238-a1d2-3b0c27d737d3",
   "metadata": {},
   "outputs": [],
   "source": []
  }
 ],
 "metadata": {
  "kernelspec": {
   "display_name": "Python 3 (ipykernel)",
   "language": "python",
   "name": "python3"
  },
  "language_info": {
   "codemirror_mode": {
    "name": "ipython",
    "version": 3
   },
   "file_extension": ".py",
   "mimetype": "text/x-python",
   "name": "python",
   "nbconvert_exporter": "python",
   "pygments_lexer": "ipython3",
   "version": "3.12.6"
  }
 },
 "nbformat": 4,
 "nbformat_minor": 5
}
