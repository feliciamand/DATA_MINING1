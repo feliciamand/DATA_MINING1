{
 "cells": [
  {
   "cell_type": "code",
   "execution_count": 6,
   "id": "54bec927-45fd-49b7-8a27-48a30c003c87",
   "metadata": {
    "scrolled": true
   },
   "outputs": [],
   "source": [
    "import numpy as np\n",
    "import matplotlib.pyplot as plt\n",
    "import pandas as pd\n",
    "import seaborn as sns\n",
    "from sklearn.impute import SimpleImputer"
   ]
  },
  {
   "cell_type": "code",
   "execution_count": 8,
   "id": "ced18e6d-e6a7-48df-90ee-d5652fd45a06",
   "metadata": {},
   "outputs": [],
   "source": [
    "df = pd.read_excel('dataKasus-1.xlsx')"
   ]
  },
  {
   "cell_type": "code",
   "execution_count": 9,
   "id": "b9ad2653-484d-40ba-b554-2a72bb058cae",
   "metadata": {},
   "outputs": [
    {
     "data": {
      "text/html": [
       "<div>\n",
       "<style scoped>\n",
       "    .dataframe tbody tr th:only-of-type {\n",
       "        vertical-align: middle;\n",
       "    }\n",
       "\n",
       "    .dataframe tbody tr th {\n",
       "        vertical-align: top;\n",
       "    }\n",
       "\n",
       "    .dataframe thead th {\n",
       "        text-align: right;\n",
       "    }\n",
       "</style>\n",
       "<table border=\"1\" class=\"dataframe\">\n",
       "  <thead>\n",
       "    <tr style=\"text-align: right;\">\n",
       "      <th></th>\n",
       "      <th>NO</th>\n",
       "      <th>NAMA</th>\n",
       "      <th>USIA</th>\n",
       "      <th>PARITAS</th>\n",
       "      <th>JARAK KELAHIRAN</th>\n",
       "      <th>RIW HIPERTENSI</th>\n",
       "      <th>RIW PE</th>\n",
       "      <th>OBESITAS</th>\n",
       "      <th>RIW DM</th>\n",
       "      <th>RIW HIPERTENSI/PE DALAM KELUARGA</th>\n",
       "      <th>SOSEK RENDAH</th>\n",
       "      <th>PE/Non PE</th>\n",
       "      <th>Unnamed: 12</th>\n",
       "    </tr>\n",
       "  </thead>\n",
       "  <tbody>\n",
       "    <tr>\n",
       "      <th>0</th>\n",
       "      <td>1</td>\n",
       "      <td>NAMA 1</td>\n",
       "      <td>23 TH</td>\n",
       "      <td>3</td>\n",
       "      <td>&lt; 2 tahun</td>\n",
       "      <td>Tidak</td>\n",
       "      <td>Tidak</td>\n",
       "      <td>Tidak</td>\n",
       "      <td>Ya</td>\n",
       "      <td>Tidak</td>\n",
       "      <td>&gt;UMR</td>\n",
       "      <td>Non PE</td>\n",
       "      <td>NaN</td>\n",
       "    </tr>\n",
       "    <tr>\n",
       "      <th>1</th>\n",
       "      <td>2</td>\n",
       "      <td>NAMA 2</td>\n",
       "      <td>29 TH</td>\n",
       "      <td>2</td>\n",
       "      <td>&lt; 2 tahun</td>\n",
       "      <td>Tidak</td>\n",
       "      <td>PEB</td>\n",
       "      <td>Tidak</td>\n",
       "      <td>Tidak</td>\n",
       "      <td>Ada</td>\n",
       "      <td>&gt;UMR</td>\n",
       "      <td>PE</td>\n",
       "      <td>NaN</td>\n",
       "    </tr>\n",
       "    <tr>\n",
       "      <th>2</th>\n",
       "      <td>3</td>\n",
       "      <td>NAMA 3</td>\n",
       "      <td>20 TH</td>\n",
       "      <td>1</td>\n",
       "      <td>anak pertama</td>\n",
       "      <td>Tidak</td>\n",
       "      <td>Tidak</td>\n",
       "      <td>Tidak</td>\n",
       "      <td>Tidak</td>\n",
       "      <td>Tidak</td>\n",
       "      <td>&gt;UMR</td>\n",
       "      <td>Non PE</td>\n",
       "      <td>NaN</td>\n",
       "    </tr>\n",
       "    <tr>\n",
       "      <th>3</th>\n",
       "      <td>4</td>\n",
       "      <td>NAMA 4</td>\n",
       "      <td>18 TH</td>\n",
       "      <td>1</td>\n",
       "      <td>anak pertama</td>\n",
       "      <td>Tidak</td>\n",
       "      <td>Tidak</td>\n",
       "      <td>Tidak</td>\n",
       "      <td>Tidak</td>\n",
       "      <td>Tidak</td>\n",
       "      <td>&gt;UMR</td>\n",
       "      <td>Non PE</td>\n",
       "      <td>NaN</td>\n",
       "    </tr>\n",
       "    <tr>\n",
       "      <th>4</th>\n",
       "      <td>5</td>\n",
       "      <td>NAMA 5</td>\n",
       "      <td>34 TH</td>\n",
       "      <td>3</td>\n",
       "      <td>&gt; 2 tahun</td>\n",
       "      <td>Tidak</td>\n",
       "      <td>Tidak</td>\n",
       "      <td>Tidak</td>\n",
       "      <td>Tidak</td>\n",
       "      <td>Tidak</td>\n",
       "      <td>&gt;UMR</td>\n",
       "      <td>Non PE</td>\n",
       "      <td>NaN</td>\n",
       "    </tr>\n",
       "    <tr>\n",
       "      <th>...</th>\n",
       "      <td>...</td>\n",
       "      <td>...</td>\n",
       "      <td>...</td>\n",
       "      <td>...</td>\n",
       "      <td>...</td>\n",
       "      <td>...</td>\n",
       "      <td>...</td>\n",
       "      <td>...</td>\n",
       "      <td>...</td>\n",
       "      <td>...</td>\n",
       "      <td>...</td>\n",
       "      <td>...</td>\n",
       "      <td>...</td>\n",
       "    </tr>\n",
       "    <tr>\n",
       "      <th>556</th>\n",
       "      <td>558</td>\n",
       "      <td>NAMA 557</td>\n",
       "      <td>40 TH</td>\n",
       "      <td>3</td>\n",
       "      <td>&gt; 2 tahun</td>\n",
       "      <td>Tidak</td>\n",
       "      <td>Tidak</td>\n",
       "      <td>Tidak</td>\n",
       "      <td>Tidak</td>\n",
       "      <td>Tidak</td>\n",
       "      <td>&gt;UMR</td>\n",
       "      <td>Non PE</td>\n",
       "      <td>NaN</td>\n",
       "    </tr>\n",
       "    <tr>\n",
       "      <th>557</th>\n",
       "      <td>559</td>\n",
       "      <td>NAMA 558</td>\n",
       "      <td>28 TH</td>\n",
       "      <td>3</td>\n",
       "      <td>&lt; 2 tahun</td>\n",
       "      <td>Tidak</td>\n",
       "      <td>Tidak</td>\n",
       "      <td>Tidak</td>\n",
       "      <td>Tidak</td>\n",
       "      <td>Tidak</td>\n",
       "      <td>&gt;UMR</td>\n",
       "      <td>Non PE</td>\n",
       "      <td>NaN</td>\n",
       "    </tr>\n",
       "    <tr>\n",
       "      <th>558</th>\n",
       "      <td>560</td>\n",
       "      <td>NAMA 559</td>\n",
       "      <td>41 TH</td>\n",
       "      <td>3</td>\n",
       "      <td>&gt; 2 tahun</td>\n",
       "      <td>Tidak</td>\n",
       "      <td>Tidak</td>\n",
       "      <td>Tidak</td>\n",
       "      <td>Tidak</td>\n",
       "      <td>Tidak</td>\n",
       "      <td>&gt;UMR</td>\n",
       "      <td>Non PE</td>\n",
       "      <td>NaN</td>\n",
       "    </tr>\n",
       "    <tr>\n",
       "      <th>559</th>\n",
       "      <td>561</td>\n",
       "      <td>NAMA 560</td>\n",
       "      <td>32 TH</td>\n",
       "      <td>2</td>\n",
       "      <td>&gt; 2 tahun</td>\n",
       "      <td>Tidak</td>\n",
       "      <td>Tidak</td>\n",
       "      <td>Tidak</td>\n",
       "      <td>Tidak</td>\n",
       "      <td>Tidak</td>\n",
       "      <td>&gt;UMR</td>\n",
       "      <td>Non PE</td>\n",
       "      <td>NaN</td>\n",
       "    </tr>\n",
       "    <tr>\n",
       "      <th>560</th>\n",
       "      <td>562</td>\n",
       "      <td>NAMA 561</td>\n",
       "      <td>30 TH</td>\n",
       "      <td>2</td>\n",
       "      <td>&gt; 2 tahun</td>\n",
       "      <td>Tidak</td>\n",
       "      <td>Tidak</td>\n",
       "      <td>Tidak</td>\n",
       "      <td>Tidak</td>\n",
       "      <td>Tidak</td>\n",
       "      <td>&gt;UMR</td>\n",
       "      <td>Non PE</td>\n",
       "      <td>NaN</td>\n",
       "    </tr>\n",
       "  </tbody>\n",
       "</table>\n",
       "<p>561 rows × 13 columns</p>\n",
       "</div>"
      ],
      "text/plain": [
       "      NO      NAMA   USIA  PARITAS JARAK KELAHIRAN RIW HIPERTENSI RIW PE  \\\n",
       "0      1    NAMA 1  23 TH        3       < 2 tahun          Tidak  Tidak   \n",
       "1      2    NAMA 2  29 TH        2       < 2 tahun          Tidak    PEB   \n",
       "2      3    NAMA 3  20 TH        1    anak pertama          Tidak  Tidak   \n",
       "3      4    NAMA 4  18 TH        1    anak pertama          Tidak  Tidak   \n",
       "4      5    NAMA 5  34 TH        3      > 2 tahun           Tidak  Tidak   \n",
       "..   ...       ...    ...      ...             ...            ...    ...   \n",
       "556  558  NAMA 557  40 TH        3      > 2 tahun           Tidak  Tidak   \n",
       "557  559  NAMA 558  28 TH        3       < 2 tahun          Tidak  Tidak   \n",
       "558  560  NAMA 559  41 TH        3      > 2 tahun           Tidak  Tidak   \n",
       "559  561  NAMA 560  32 TH        2      > 2 tahun           Tidak  Tidak   \n",
       "560  562  NAMA 561  30 TH        2      > 2 tahun           Tidak  Tidak   \n",
       "\n",
       "    OBESITAS RIW DM RIW HIPERTENSI/PE DALAM KELUARGA SOSEK RENDAH PE/Non PE  \\\n",
       "0      Tidak     Ya                            Tidak         >UMR    Non PE   \n",
       "1      Tidak  Tidak                              Ada         >UMR        PE   \n",
       "2      Tidak  Tidak                            Tidak         >UMR    Non PE   \n",
       "3      Tidak  Tidak                            Tidak         >UMR    Non PE   \n",
       "4      Tidak  Tidak                            Tidak         >UMR    Non PE   \n",
       "..       ...    ...                              ...          ...       ...   \n",
       "556    Tidak  Tidak                            Tidak         >UMR    Non PE   \n",
       "557    Tidak  Tidak                            Tidak         >UMR    Non PE   \n",
       "558    Tidak  Tidak                            Tidak         >UMR    Non PE   \n",
       "559    Tidak  Tidak                            Tidak         >UMR    Non PE   \n",
       "560    Tidak  Tidak                            Tidak         >UMR    Non PE   \n",
       "\n",
       "    Unnamed: 12  \n",
       "0           NaN  \n",
       "1           NaN  \n",
       "2           NaN  \n",
       "3           NaN  \n",
       "4           NaN  \n",
       "..          ...  \n",
       "556         NaN  \n",
       "557         NaN  \n",
       "558         NaN  \n",
       "559         NaN  \n",
       "560         NaN  \n",
       "\n",
       "[561 rows x 13 columns]"
      ]
     },
     "execution_count": 9,
     "metadata": {},
     "output_type": "execute_result"
    }
   ],
   "source": [
    "df"
   ]
  },
  {
   "cell_type": "code",
   "execution_count": 10,
   "id": "0adee83d-3911-483f-a213-16ec25ad4092",
   "metadata": {},
   "outputs": [
    {
     "name": "stdout",
     "output_type": "stream",
     "text": [
      "<class 'pandas.core.frame.DataFrame'>\n",
      "RangeIndex: 561 entries, 0 to 560\n",
      "Data columns (total 13 columns):\n",
      " #   Column                            Non-Null Count  Dtype \n",
      "---  ------                            --------------  ----- \n",
      " 0   NO                                561 non-null    int64 \n",
      " 1   NAMA                              561 non-null    object\n",
      " 2   USIA                              558 non-null    object\n",
      " 3   PARITAS                           561 non-null    int64 \n",
      " 4   JARAK KELAHIRAN                   554 non-null    object\n",
      " 5   RIW HIPERTENSI                    561 non-null    object\n",
      " 6   RIW PE                            561 non-null    object\n",
      " 7   OBESITAS                          561 non-null    object\n",
      " 8   RIW DM                            561 non-null    object\n",
      " 9   RIW HIPERTENSI/PE DALAM KELUARGA  561 non-null    object\n",
      " 10  SOSEK RENDAH                      561 non-null    object\n",
      " 11  PE/Non PE                         561 non-null    object\n",
      " 12  Unnamed: 12                       11 non-null     object\n",
      "dtypes: int64(2), object(11)\n",
      "memory usage: 57.1+ KB\n"
     ]
    }
   ],
   "source": [
    "df.info()"
   ]
  },
  {
   "cell_type": "code",
   "execution_count": 11,
   "id": "cc56f31e-d112-4fb6-bf31-250fae1ab2d8",
   "metadata": {},
   "outputs": [
    {
     "data": {
      "text/plain": [
       "NO                                    0\n",
       "NAMA                                  0\n",
       "USIA                                  3\n",
       "PARITAS                               0\n",
       "JARAK KELAHIRAN                       7\n",
       "RIW HIPERTENSI                        0\n",
       "RIW PE                                0\n",
       "OBESITAS                              0\n",
       "RIW DM                                0\n",
       "RIW HIPERTENSI/PE DALAM KELUARGA      0\n",
       "SOSEK RENDAH                          0\n",
       "PE/Non PE                             0\n",
       "Unnamed: 12                         550\n",
       "dtype: int64"
      ]
     },
     "execution_count": 11,
     "metadata": {},
     "output_type": "execute_result"
    }
   ],
   "source": [
    "df.isnull().sum()"
   ]
  },
  {
   "cell_type": "code",
   "execution_count": 13,
   "id": "6690dd1d-c3a2-46c6-9e5b-afa2f307acab",
   "metadata": {},
   "outputs": [
    {
     "data": {
      "text/plain": [
       "USIA\n",
       "28 TH     28\n",
       "25 TH     24\n",
       "31 TH     23\n",
       "29 TH     22\n",
       "24 TH     21\n",
       "          ..\n",
       "21         1\n",
       "18 th      1\n",
       "20 TH      1\n",
       "23TH       1\n",
       "14 TH      1\n",
       "Name: count, Length: 73, dtype: int64"
      ]
     },
     "execution_count": 13,
     "metadata": {},
     "output_type": "execute_result"
    }
   ],
   "source": [
    "value_counts = df['USIA'].astype(str).value_counts(dropna=False)\n",
    "\n",
    "value_counts"
   ]
  },
  {
   "cell_type": "code",
   "execution_count": 17,
   "id": "f88186c8-8e35-43d6-ae8d-a1d687931b90",
   "metadata": {},
   "outputs": [],
   "source": [
    "df['USIA'] = df['USIA'].fillna('')"
   ]
  },
  {
   "cell_type": "code",
   "execution_count": 19,
   "id": "deeecc27-c0ab-4f41-a1ab-36913a3387fb",
   "metadata": {},
   "outputs": [],
   "source": [
    "df['USIA'] = df['USIA'].str.strip().str.extract(r'(\\d+)')[0]"
   ]
  },
  {
   "cell_type": "code",
   "execution_count": 20,
   "id": "8e7ec056-f527-46dc-b95f-d1aafa5b3529",
   "metadata": {},
   "outputs": [],
   "source": [
    "df['USIA'] = pd.to_numeric(df['USIA'], errors='coerce')"
   ]
  },
  {
   "cell_type": "code",
   "execution_count": 21,
   "id": "61ea9703-b3b7-4a39-9f1d-8ffe528f0f78",
   "metadata": {},
   "outputs": [],
   "source": [
    "df['USIA'] = df['USIA'].fillna(df['USIA'].mean())"
   ]
  },
  {
   "cell_type": "code",
   "execution_count": 23,
   "id": "e52d7d20-9227-4fed-b959-23794408b0c5",
   "metadata": {},
   "outputs": [
    {
     "name": "stdout",
     "output_type": "stream",
     "text": [
      "USIA\n",
      "28.0                  41\n",
      "31.0                  41\n",
      "25.0                  35\n",
      "26.0                  35\n",
      "22.0                  35\n",
      "29.0                  34\n",
      "24.0                  33\n",
      "27.0                  27\n",
      "23.0                  25\n",
      "30.0                  25\n",
      "33.0                  23\n",
      "21.0                  21\n",
      "32.0                  20\n",
      "20.0                  20\n",
      "36.0                  18\n",
      "35.0                  17\n",
      "38.0                  15\n",
      "34.0                  14\n",
      "28.195612431444243    14\n",
      "41.0                  11\n",
      "39.0                  11\n",
      "19.0                  10\n",
      "37.0                   9\n",
      "40.0                   8\n",
      "18.0                   5\n",
      "17.0                   5\n",
      "15.0                   3\n",
      "43.0                   2\n",
      "16.0                   2\n",
      "13.0                   1\n",
      "14.0                   1\n",
      "Name: count, dtype: int64\n"
     ]
    }
   ],
   "source": [
    "# Mengubah data menjadi string dan menghitung nilai unik\n",
    "value_counts = df['USIA'].astype(str).value_counts(dropna=False)\n",
    "\n",
    "print(value_counts)"
   ]
  },
  {
   "cell_type": "code",
   "execution_count": 25,
   "id": "d5e93036-29a5-42a9-837f-4f74e9ff45e4",
   "metadata": {},
   "outputs": [
    {
     "name": "stdout",
     "output_type": "stream",
     "text": [
      "PARITAS\n",
      "1    228\n",
      "2    186\n",
      "3     82\n",
      "0     39\n",
      "4     20\n",
      "5      3\n",
      "6      3\n",
      "Name: count, dtype: int64\n"
     ]
    }
   ],
   "source": [
    "# Mengubah data menjadi string dan menghitung nilai unik\n",
    "value_counts = df['PARITAS'].astype(str).value_counts(dropna=False)\n",
    "print(value_counts)"
   ]
  },
  {
   "cell_type": "code",
   "execution_count": 27,
   "id": "62be597a-4d97-475b-b161-41f28c07fa66",
   "metadata": {},
   "outputs": [
    {
     "name": "stdout",
     "output_type": "stream",
     "text": [
      "JARAK KELAHIRAN\n",
      "anak pertama    260\n",
      "> 2 tahun       211\n",
      "< 2 tahun        81\n",
      "nan               7\n",
      "> 2 tahun         2\n",
      "Name: count, dtype: int64\n"
     ]
    }
   ],
   "source": [
    "# Mengubah data menjadi string dan menghitung nilai unik\n",
    "value_counts = df['JARAK KELAHIRAN'].astype(str).value_counts(dropna=False)\n",
    "\n",
    "print(value_counts)"
   ]
  },
  {
   "cell_type": "code",
   "execution_count": 28,
   "id": "ab8707a5-08fe-4114-9418-8decaf48261b",
   "metadata": {},
   "outputs": [],
   "source": [
    "imputer = SimpleImputer(strategy='most_frequent')\n",
    "from sklearn.preprocessing import LabelEncoder      \n",
    "\n",
    "df['JARAK KELAHIRAN'] = imputer.fit_transform(df[['JARAK KELAHIRAN']]).ravel()\n",
    "# Mengganti nilai '> 2 tahun ' dengan '> 2 tahun'\n",
    "df['JARAK KELAHIRAN'] = df['JARAK KELAHIRAN'].replace('> 2 tahun ', '> 2 tahun')"
   ]
  },
  {
   "cell_type": "code",
   "execution_count": 29,
   "id": "c109351a-f0f1-4e08-b20c-6f38b3335586",
   "metadata": {},
   "outputs": [
    {
     "name": "stdout",
     "output_type": "stream",
     "text": [
      "JARAK KELAHIRAN\n",
      "anak pertama    267\n",
      "> 2 tahun       213\n",
      "< 2 tahun        81\n",
      "Name: count, dtype: int64\n"
     ]
    }
   ],
   "source": [
    "# Mengubah data menjadi string dan menghitung nilai unik\n",
    "value_counts = df['JARAK KELAHIRAN'].astype(str).value_counts(dropna=False)\n",
    "\n",
    "print(value_counts)"
   ]
  },
  {
   "cell_type": "code",
   "execution_count": 31,
   "id": "43bf02e4-3a95-42bc-82c7-62fbc1de156f",
   "metadata": {},
   "outputs": [
    {
     "name": "stdout",
     "output_type": "stream",
     "text": [
      "RIW HIPERTENSI\n",
      "Tidak    508\n",
      "Ya        53\n",
      "Name: count, dtype: int64\n"
     ]
    }
   ],
   "source": [
    "# Mengubah data menjadi string dan menghitung nilai unik\n",
    "value_counts = df['RIW HIPERTENSI'].astype(str).value_counts(dropna=False)\n",
    "\n",
    "print(value_counts)"
   ]
  },
  {
   "cell_type": "code",
   "execution_count": 33,
   "id": "15a77ca9-fa50-4258-984b-e8babdb151ef",
   "metadata": {},
   "outputs": [
    {
     "data": {
      "image/png": "[encoded data removed]",
      "text/plain": [
       "<Figure size 640x480 with 1 Axes>"
      ]
     },
     "metadata": {},
     "output_type": "display_data"
    }
   ],
   "source": [
    "import pandas as pd\n",
    "import matplotlib.pyplot as plt\n",
    "\n",
    "value_counts = df['PE/Non PE'].value_counts()\n",
    "\n",
    "# Create a bar chart\n",
    "ax = value_counts.plot(kind='bar', color=['skyblue', 'orange'])\n",
    "\n",
    "# Add title and labels\n",
    "plt.title('PE/Non PE Distribution')\n",
    "plt.xlabel('Category')\n",
    "plt.ylabel('Count')\n",
    "\n",
    "# Add count labels on top of each bar\n",
    "for i, count in enumerate(value_counts):\n",
    "    ax.text(i, count , str(count), ha='center', va='bottom')\n",
    "\n",
    "# Display the bar chart\n",
    "plt.show()"
   ]
  },
  {
   "cell_type": "code",
   "execution_count": 34,
   "id": "81a2e7d5-159f-475e-8b1a-4516f9cf0126",
   "metadata": {},
   "outputs": [
    {
     "name": "stdout",
     "output_type": "stream",
     "text": [
      "<class 'pandas.core.frame.DataFrame'>\n",
      "RangeIndex: 561 entries, 0 to 560\n",
      "Data columns (total 13 columns):\n",
      " #   Column                            Non-Null Count  Dtype  \n",
      "---  ------                            --------------  -----  \n",
      " 0   NO                                561 non-null    int64  \n",
      " 1   NAMA                              561 non-null    object \n",
      " 2   USIA                              561 non-null    float64\n",
      " 3   PARITAS                           561 non-null    int64  \n",
      " 4   JARAK KELAHIRAN                   561 non-null    object \n",
      " 5   RIW HIPERTENSI                    561 non-null    object \n",
      " 6   RIW PE                            561 non-null    object \n",
      " 7   OBESITAS                          561 non-null    object \n",
      " 8   RIW DM                            561 non-null    object \n",
      " 9   RIW HIPERTENSI/PE DALAM KELUARGA  561 non-null    object \n",
      " 10  SOSEK RENDAH                      561 non-null    object \n",
      " 11  PE/Non PE                         561 non-null    object \n",
      " 12  Unnamed: 12                       11 non-null     object \n",
      "dtypes: float64(1), int64(2), object(10)\n",
      "memory usage: 57.1+ KB\n"
     ]
    }
   ],
   "source": [
    "df.info()"
   ]
  },
  {
   "cell_type": "code",
   "execution_count": 35,
   "id": "2a03c16d-4be3-455b-aaf2-bbcbce7277be",
   "metadata": {},
   "outputs": [],
   "source": [
    "# label_encoder = LabelEncoder()\n",
    "# datasets['PARITAS'] = label_encoder.fit_transform(datasets['PARITAS'])"
   ]
  },
  {
   "cell_type": "code",
   "execution_count": 36,
   "id": "f513c7de-f5e0-48b7-affb-8c09d2cf9921",
   "metadata": {},
   "outputs": [
    {
     "name": "stdout",
     "output_type": "stream",
     "text": [
      "PARITAS\n",
      "1    228\n",
      "2    186\n",
      "3     82\n",
      "0     39\n",
      "4     20\n",
      "5      3\n",
      "6      3\n",
      "Name: count, dtype: int64\n"
     ]
    }
   ],
   "source": [
    "# Mengubah data menjadi string dan menghitung nilai unik\n",
    "value_counts = df['PARITAS'].astype(str).value_counts(dropna=False)\n",
    "\n",
    "print(value_counts)"
   ]
  },
  {
   "cell_type": "code",
   "execution_count": null,
   "id": "4bbc52ba-482c-4f2b-a86d-551d18516538",
   "metadata": {},
   "outputs": [],
   "source": []
  }
 ],
 "metadata": {
  "kernelspec": {
   "display_name": "Python 3 (ipykernel)",
   "language": "python",
   "name": "python3"
  },
  "language_info": {
   "codemirror_mode": {
    "name": "ipython",
    "version": 3
   },
   "file_extension": ".py",
   "mimetype": "text/x-python",
   "name": "python",
   "nbconvert_exporter": "python",
   "pygments_lexer": "ipython3",
   "version": "3.12.6"
  }
 },
 "nbformat": 4,
 "nbformat_minor": 5
}
